{
  "nbformat": 4,
  "nbformat_minor": 0,
  "metadata": {
    "colab": {
      "name": "dpo_hw_2.ipynb",
      "provenance": [],
      "collapsed_sections": []
    },
    "kernelspec": {
      "name": "python3",
      "display_name": "Python 3"
    },
    "language_info": {
      "name": "python"
    }
  },
  "cells": [
    {
      "cell_type": "markdown",
      "source": [
        "**Задания предполагают использование только математических операторов**"
      ],
      "metadata": {
        "id": "IubWvMBchjP3"
      }
    },
    {
      "cell_type": "markdown",
      "source": [
        "Задание 1. Дано трехзначное число 249. Найдите сумму его цифр. "
      ],
      "metadata": {
        "id": "K8MEy0mEiBZc"
      }
    },
    {
      "cell_type": "code",
      "source": [
        "x = 249\n",
        "#Ваше решение здесь\n",
        "\n",
        "\n",
        "print('Сумма цифр числа 249 равна -- ', )#после запятой в виде переменной запишите результат "
      ],
      "metadata": {
        "colab": {
          "base_uri": "https://localhost:8080/"
        },
        "id": "SPz8MwfliBGG",
        "outputId": "4d33d9f3-c60d-4a61-c4ff-d8b4a333e7b2"
      },
      "execution_count": 3,
      "outputs": [
        {
          "output_type": "stream",
          "name": "stdout",
          "text": [
            "Сумма цифр числа 249 равна -- \n"
          ]
        }
      ]
    },
    {
      "cell_type": "markdown",
      "source": [
        "Задание 2. Дано число N. С начала суток прошло N минут. Определите, сколько часов и минут будут показывать электронные часы в этот момент. Предполагается, что $N < 1440$."
      ],
      "metadata": {
        "id": "jz2W8zAfi-FJ"
      }
    },
    {
      "cell_type": "code",
      "execution_count": 4,
      "metadata": {
        "id": "OPuC6ijJhQwt"
      },
      "outputs": [],
      "source": [
        "#Ваше решение здесь\n"
      ]
    },
    {
      "cell_type": "markdown",
      "source": [
        "Задание 3. Дано вещественное число. Выведите его дробную часть."
      ],
      "metadata": {
        "id": "ELlTWPe2lVAe"
      }
    },
    {
      "cell_type": "code",
      "source": [
        "#Ваше решение здесь"
      ],
      "metadata": {
        "id": "YjVqQdHhkxhN"
      },
      "execution_count": 5,
      "outputs": []
    },
    {
      "cell_type": "markdown",
      "source": [
        "Задание 4. Дано число $N$, соответствующее росту человека в футах. Рассчитайте и выведите рост этого человека в дюймах и сантиметрах.\n",
        "\n",
        "Напомним, что а один фут равен 12 дюймам, а один дюйм – 2.54 см."
      ],
      "metadata": {
        "id": "R910AyZxm3rr"
      }
    },
    {
      "cell_type": "code",
      "source": [
        "#Ваше решение здесь"
      ],
      "metadata": {
        "id": "ygdhutzNlYz2"
      },
      "execution_count": null,
      "outputs": []
    },
    {
      "cell_type": "markdown",
      "source": [
        "Задание 5. Известны координаты двух точек $A(x_1, y_1)$ и $B(x_2, y_2)$ на плоскости. Рассчитайте и выведите расстояние между ними."
      ],
      "metadata": {
        "id": "fkIPB4yOoWsR"
      }
    },
    {
      "cell_type": "code",
      "source": [
        "# Ваше решение здесь\n",
        "x1 = 10\n",
        "y1 = 0.7\n",
        "\n",
        "x2 = 100\n",
        "y2 = 0.1\n"
      ],
      "metadata": {
        "id": "GstytjGNok4O"
      },
      "execution_count": 8,
      "outputs": []
    },
    {
      "cell_type": "markdown",
      "source": [
        "Задание 6. Вершины треугольника имеют следующие координаты $A(x1,y1)$, $B(x2,y2)$ и $С(x3,y3)$. Рассчитайте и выведите площадь этого треугольника."
      ],
      "metadata": {
        "id": "QunH0WI-pdD6"
      }
    },
    {
      "cell_type": "code",
      "source": [
        "# Ваше решение здесь\n",
        "x1 = 0\n",
        "y1 = 0\n",
        "\n",
        "x2 = 4\n",
        "y2 = 0\n",
        "\n",
        "x3 = 0\n",
        "y3 = 3\n"
      ],
      "metadata": {
        "id": "nn8qNNDSpEeg"
      },
      "execution_count": 9,
      "outputs": []
    }
  ]
}